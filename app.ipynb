{
 "cells": [
  {
   "cell_type": "markdown",
   "id": "cd3c4383",
   "metadata": {},
   "source": [
    "# Noise Reduction with Spectral Subtraction (Gradio demonstration)\n",
    "\n",
    "Author- Aryan Gupta\n",
    "Date- 12/06/2025"
   ]
  },
  {
   "cell_type": "markdown",
   "id": "f3a393a6",
   "metadata": {},
   "source": [
    "## Exploring Gradio App\n",
    "```bash\n",
    "pip install gradio\n",
    "```"
   ]
  },
  {
   "cell_type": "markdown",
   "id": "ba429870",
   "metadata": {},
   "source": [
    "### Getting Started"
   ]
  },
  {
   "cell_type": "code",
   "execution_count": 9,
   "id": "35ef685a",
   "metadata": {},
   "outputs": [
    {
     "name": "stdout",
     "output_type": "stream",
     "text": [
      "* Running on local URL:  http://127.0.0.1:7864\n",
      "* To create a public link, set `share=True` in `launch()`.\n"
     ]
    },
    {
     "data": {
      "text/html": [
       "<div><iframe src=\"http://127.0.0.1:7864/\" width=\"100%\" height=\"500\" allow=\"autoplay; camera; microphone; clipboard-read; clipboard-write;\" frameborder=\"0\" allowfullscreen></iframe></div>"
      ],
      "text/plain": [
       "<IPython.core.display.HTML object>"
      ]
     },
     "metadata": {},
     "output_type": "display_data"
    },
    {
     "data": {
      "text/plain": []
     },
     "execution_count": 9,
     "metadata": {},
     "output_type": "execute_result"
    }
   ],
   "source": [
    "# importing library\n",
    "import gradio as gr\n",
    "\n",
    "# defining function\n",
    "def greet(name):\n",
    "    return f\"Hello, {name}!\"\n",
    "\n",
    "def hello():\n",
    "    return \"Hello, World!\"\n",
    "\n",
    "# defining gradio wrapper\n",
    "iface = gr.Interface(fn=greet, inputs=\"text\", outputs=\"text\")\n",
    "# iface = gr.Interface(fn=hello, inputs=None, outputs=\"text\", title=\"Hello\", description=\"Just says Hello! to the world\")\n",
    "iface.launch()"
   ]
  },
  {
   "cell_type": "markdown",
   "id": "e8c3c13b",
   "metadata": {},
   "source": [
    "### Custom Components"
   ]
  },
  {
   "cell_type": "code",
   "execution_count": 27,
   "id": "5d88dd80",
   "metadata": {},
   "outputs": [
    {
     "data": {
      "application/vnd.jupyter.widget-view+json": {
       "model_id": "d61c64fa178b46bcae7445b3604c1e3a",
       "version_major": 2,
       "version_minor": 0
      },
      "text/plain": [
       "theme_schema%400.0.1.json:   0%|          | 0.00/13.5k [00:00<?, ?B/s]"
      ]
     },
     "metadata": {},
     "output_type": "display_data"
    },
    {
     "name": "stderr",
     "output_type": "stream",
     "text": [
      "c:\\Users\\Aryan Gupta\\AppData\\Local\\Programs\\Python\\Python312\\Lib\\site-packages\\huggingface_hub\\file_download.py:143: UserWarning: `huggingface_hub` cache-system uses symlinks by default to efficiently store duplicated files but your machine does not support them in C:\\Users\\Aryan Gupta\\.cache\\huggingface\\hub\\spaces--earneleh--paris. Caching files will still work but in a degraded version that might require more space on your disk. This warning can be disabled by setting the `HF_HUB_DISABLE_SYMLINKS_WARNING` environment variable. For more details, see https://huggingface.co/docs/huggingface_hub/how-to-cache#limitations.\n",
      "To support symlinks on Windows, you either need to activate Developer Mode or to run Python as an administrator. In order to activate developer mode, see this article: https://docs.microsoft.com/en-us/windows/apps/get-started/enable-your-device-for-development\n",
      "  warnings.warn(message)\n"
     ]
    },
    {
     "name": "stdout",
     "output_type": "stream",
     "text": [
      "* Running on local URL:  http://127.0.0.1:7880\n",
      "* To create a public link, set `share=True` in `launch()`.\n"
     ]
    },
    {
     "data": {
      "text/html": [
       "<div><iframe src=\"http://127.0.0.1:7880/\" width=\"100%\" height=\"500\" allow=\"autoplay; camera; microphone; clipboard-read; clipboard-write;\" frameborder=\"0\" allowfullscreen></iframe></div>"
      ],
      "text/plain": [
       "<IPython.core.display.HTML object>"
      ]
     },
     "metadata": {},
     "output_type": "display_data"
    },
    {
     "data": {
      "text/plain": []
     },
     "execution_count": 27,
     "metadata": {},
     "output_type": "execute_result"
    }
   ],
   "source": [
    "def hello(name):\n",
    "    return \"Hello, World!\"\n",
    "\n",
    "iface1 = gr.Interface(\n",
    "    fn=hello,\n",
    "    inputs=[\n",
    "            # gr.Microphone(format='wav', sources=['upload', 'microphone'], interactive=True, show_download_button=True, show_share_button=True, recording=True),\n",
    "            gr.Audio(sources=['microphone','upload'], show_download_button=True, format='wav')\n",
    "            ],\n",
    "    outputs=\"text\",\n",
    "    theme='earneleh/paris'\n",
    ")\n",
    "iface1.launch()"
   ]
  },
  {
   "cell_type": "markdown",
   "id": "40d9016b",
   "metadata": {},
   "source": [
    "## Creating the required app"
   ]
  },
  {
   "cell_type": "code",
   "execution_count": 2,
   "id": "7056ef94",
   "metadata": {},
   "outputs": [
    {
     "name": "stdout",
     "output_type": "stream",
     "text": [
      "Libraries imported successfully!\n"
     ]
    }
   ],
   "source": [
    "# Import required libraries\n",
    "import os\n",
    "import numpy as np\n",
    "np.complex = complex\n",
    "# np.complex is a function, and complex is a class used by librosa to do the same thing, i.e, create complex numbers.\n",
    "# It is just to keep librosa happy\n",
    "\n",
    "import librosa        # audio I/O & processing\n",
    "import librosa.display  # plotting\n",
    "import soundfile as sf  # reading/writing WAV files\n",
    "import matplotlib.pyplot as plt\n",
    "from scipy.signal import stft, istft  # STFT operations\n",
    "\n",
    "import gradio as gr # to create the app\n",
    "\n",
    "print('Libraries imported successfully!')"
   ]
  },
  {
   "cell_type": "code",
   "execution_count": 3,
   "id": "ffef7c29",
   "metadata": {},
   "outputs": [],
   "source": [
    "# sampling rate (in Hz)\n",
    "sr = 44100\n",
    "\n",
    "# STFT parameters\n",
    "frame_len = 2048 # Number of samples that is analyzed as one data point. 2048 samples = 0.05 seconds at 44.1 kHz sampling rate\n",
    "hop_len = 512    # how many samples you move forward after analyzing each frame. 512 samples = 0.0116 seconds at 44.1 kHz sampling rate"
   ]
  },
  {
   "cell_type": "code",
   "execution_count": 10,
   "id": "24967c78",
   "metadata": {},
   "outputs": [],
   "source": [
    "def extract_noise_profile(y, sr, duration=0.5):\n",
    "    \"\"\"\n",
    "    Estimate an average magnitude spectrum from the first duration seconds of y.\n",
    "    \"\"\"\n",
    "    n = int(sr * duration)\n",
    "    noise = y[:n]\n",
    "    _, _, Zxx = stft(noise, fs=sr, nperseg=frame_len,\n",
    "                     noverlap=frame_len-hop_len, boundary=None)\n",
    "    return np.mean(np.abs(Zxx), axis=1)\n",
    "\n",
    "\n",
    "def spectral_subtract(y, sr, noise_spec):\n",
    "    \"\"\"\n",
    "    Subtract noise_spec from the full signal in magnitude domain, then invert.\n",
    "    \"\"\"\n",
    "    _, _, Zxx = stft(y, fs=sr, nperseg=frame_len,\n",
    "                     noverlap=frame_len-hop_len, boundary=None)\n",
    "    mag, phase = np.abs(Zxx), np.angle(Zxx)\n",
    "    sub_mag = np.maximum(mag - noise_spec[:, None], 0.0)\n",
    "    _, y_rec = istft(sub_mag * np.exp(1j * phase), fs=sr,\n",
    "                     nperseg=frame_len, noverlap=frame_len-hop_len,\n",
    "                     boundary=None)\n",
    "    # Ensure same length\n",
    "    y_rec = librosa.util.fix_length(y_rec, size=len(y))\n",
    "    return y_rec"
   ]
  },
  {
   "cell_type": "code",
   "execution_count": 17,
   "id": "538eee19",
   "metadata": {},
   "outputs": [],
   "source": [
    "def enhance_audio(noisy_input):\n",
    "    if isinstance(noisy_input, tuple):\n",
    "        sr, y_noisy = noisy_input\n",
    "        # If dtype is int16, convert to float in [-1,1]:\n",
    "        if y_noisy.dtype.kind == 'i':\n",
    "            y_noisy = y_noisy.astype(np.float32) / np.iinfo(y_noisy.dtype).max\n",
    "    else:\n",
    "        # assume it's a filepath\n",
    "        y_noisy, sr = librosa.load(noisy_input, sr=None)\n",
    "\n",
    "# Estimate noise profile\n",
    "    noise_spec = extract_noise_profile(y_noisy, sr, duration=0.5)\n",
    "\n",
    "# Apply spectral subtraction\n",
    "    y_denoised = spectral_subtract(y_noisy, sr, noise_spec)\n",
    "    # print('Denoising complete!')\n",
    "    \n",
    "    \n",
    "    # Dummy data insertion\n",
    "    margin_ms = 5  # milliseconds to replace at start\n",
    "    n_dummy = int(margin_ms * 1e-3 * sr)\n",
    "\n",
    "    # print(f'Dummy samples at start: {n_dummy}')\n",
    "\n",
    "    # Overwrite first n_dummy samples with zeros\n",
    "    y_denoised[:n_dummy] = 0\n",
    "    # print(f'First {n_dummy} samples replaced with zeros for plotting.')\n",
    "    \n",
    "    return sr , y_denoised\n",
    "    # sf.write(output_path, y_denoised, sr)\n",
    "    # print(f\"Denoised audio saved to: {output_path}\")"
   ]
  },
  {
   "cell_type": "code",
   "execution_count": null,
   "id": "8b5370db",
   "metadata": {},
   "outputs": [],
   "source": [
    "plt.figure(figsize=(14, 8))\n",
    "\n",
    "# Waveforms\n",
    "plt.subplot(2, 2, 1)\n",
    "librosa.display.waveshow(y_noisy, sr=sr, alpha=0.6)\n",
    "plt.title('Original Noisy Waveform')\n",
    "\n",
    "plt.subplot(2, 2, 2)\n",
    "librosa.display.waveshow(y_denoised, sr=sr, color='r', alpha=0.6)\n",
    "plt.title('Denoised Waveform (dummy start)')\n",
    "\n",
    "# Spectrograms\n",
    "D_noisy = librosa.amplitude_to_db(np.abs(librosa.stft(y_noisy, n_fft=frame_len, hop_length=hop_len)), ref=np.max)\n",
    "D_denoised = librosa.amplitude_to_db(np.abs(librosa.stft(y_denoised, n_fft=frame_len, hop_length=hop_len)), ref=np.max)\n",
    "\n",
    "plt.subplot(2, 2, 3)\n",
    "librosa.display.specshow(D_noisy, sr=sr, hop_length=hop_len, x_axis='time', y_axis='log')\n",
    "plt.colorbar(format='%+2.0f dB')\n",
    "plt.title('Noisy Spectrogram')\n",
    "\n",
    "plt.subplot(2, 2, 4)\n",
    "librosa.display.specshow(D_denoised, sr=sr, hop_length=hop_len, x_axis='time', y_axis='log')\n",
    "plt.colorbar(format='%+2.0f dB')\n",
    "plt.title('Denoised Spectrogram')\n",
    "\n",
    "plt.tight_layout()\n",
    "plt.show()"
   ]
  },
  {
   "cell_type": "code",
   "execution_count": null,
   "id": "50d5dbeb",
   "metadata": {},
   "outputs": [
    {
     "name": "stdout",
     "output_type": "stream",
     "text": [
      "* Running on local URL:  http://127.0.0.1:7861\n",
      "* To create a public link, set `share=True` in `launch()`.\n"
     ]
    },
    {
     "data": {
      "text/html": [
       "<div><iframe src=\"http://127.0.0.1:7861/\" width=\"100%\" height=\"500\" allow=\"autoplay; camera; microphone; clipboard-read; clipboard-write;\" frameborder=\"0\" allowfullscreen></iframe></div>"
      ],
      "text/plain": [
       "<IPython.core.display.HTML object>"
      ]
     },
     "metadata": {},
     "output_type": "display_data"
    },
    {
     "name": "stderr",
     "output_type": "stream",
     "text": [
      "C:\\Users\\Aryan Gupta\\AppData\\Local\\Temp\\ipykernel_1028\\4250752076.py:20: UserWarning: NOLA condition failed, STFT may not be invertible. Possibly due to missing boundary\n",
      "  _, y_rec = istft(sub_mag * np.exp(1j * phase), fs=sr,\n",
      "c:\\Users\\Aryan Gupta\\AppData\\Local\\Programs\\Python\\Python312\\Lib\\site-packages\\gradio\\processing_utils.py:753: UserWarning: Trying to convert audio automatically from float32 to 16-bit int format.\n",
      "  warnings.warn(warning.format(data.dtype))\n"
     ]
    },
    {
     "name": "stdout",
     "output_type": "stream",
     "text": [
      "Keyboard interruption in main thread... closing server.\n"
     ]
    },
    {
     "data": {
      "text/plain": []
     },
     "execution_count": 18,
     "metadata": {},
     "output_type": "execute_result"
    }
   ],
   "source": [
    "iface1 = gr.Interface(\n",
    "    fn=enhance_audio,\n",
    "    inputs=[\n",
    "            # gr.Microphone(format='wav', sources=['upload', 'microphone'], interactive=True, show_download_button=True, show_share_button=True, recording=True),\n",
    "            gr.Audio(sources=['microphone','upload'], show_download_button=True, format='wav')\n",
    "            ],\n",
    "    outputs=gr.Audio(type=\"numpy\"),\n",
    "    theme='earneleh/paris',\n",
    "    examples=['./noisy_sample.wav']\n",
    ")\n",
    "iface1.launch(\n",
    "    # debug=True\n",
    "    )"
   ]
  }
 ],
 "metadata": {
  "kernelspec": {
   "display_name": "Python 3",
   "language": "python",
   "name": "python3"
  },
  "language_info": {
   "codemirror_mode": {
    "name": "ipython",
    "version": 3
   },
   "file_extension": ".py",
   "mimetype": "text/x-python",
   "name": "python",
   "nbconvert_exporter": "python",
   "pygments_lexer": "ipython3",
   "version": "3.12.3"
  }
 },
 "nbformat": 4,
 "nbformat_minor": 5
}
